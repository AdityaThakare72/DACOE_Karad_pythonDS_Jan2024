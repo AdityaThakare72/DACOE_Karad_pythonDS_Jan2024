{
 "cells": [
  {
   "cell_type": "code",
   "execution_count": 11,
   "id": "ce0b61d1",
   "metadata": {},
   "outputs": [],
   "source": [
    "class Employee:   # class\n",
    "    pass"
   ]
  },
  {
   "cell_type": "code",
   "execution_count": 12,
   "id": "07923321",
   "metadata": {},
   "outputs": [],
   "source": [
    "emp1 = Employee()  # object of employee class (instance of a class)\n",
    "emp2 = Employee()"
   ]
  },
  {
   "cell_type": "code",
   "execution_count": 13,
   "id": "3875ee62",
   "metadata": {},
   "outputs": [
    {
     "name": "stdout",
     "output_type": "stream",
     "text": [
      "<__main__.Employee object at 0x7fe651542090>\n"
     ]
    }
   ],
   "source": [
    "print(emp1)"
   ]
  },
  {
   "cell_type": "code",
   "execution_count": 14,
   "id": "94f82fd7",
   "metadata": {},
   "outputs": [
    {
     "name": "stdout",
     "output_type": "stream",
     "text": [
      "<__main__.Employee object at 0x7fe651542710>\n"
     ]
    }
   ],
   "source": [
    "print(emp2)"
   ]
  },
  {
   "cell_type": "code",
   "execution_count": 15,
   "id": "8428952c",
   "metadata": {},
   "outputs": [],
   "source": [
    "emp1.first = 'Aditya'    # creating instance variables\n",
    "emp1.last = 'Thakare'\n",
    "emp1.salary = 51000"
   ]
  },
  {
   "cell_type": "code",
   "execution_count": 16,
   "id": "48c356ed",
   "metadata": {},
   "outputs": [
    {
     "name": "stdout",
     "output_type": "stream",
     "text": [
      "Aditya\n"
     ]
    }
   ],
   "source": [
    "print(emp1.first)"
   ]
  },
  {
   "cell_type": "code",
   "execution_count": 17,
   "id": "5f78a178",
   "metadata": {},
   "outputs": [],
   "source": [
    "emp2.first = 'Pratik'    # creating instance variables\n",
    "emp2.last = 'Sharma'\n",
    "emp2.salary = 45000"
   ]
  },
  {
   "cell_type": "code",
   "execution_count": 18,
   "id": "71d2d533",
   "metadata": {},
   "outputs": [
    {
     "name": "stdout",
     "output_type": "stream",
     "text": [
      "45000\n"
     ]
    }
   ],
   "source": [
    "print(emp2.salary)"
   ]
  },
  {
   "cell_type": "code",
   "execution_count": 22,
   "id": "0a60e7ea",
   "metadata": {},
   "outputs": [],
   "source": [
    "class Employee():\n",
    "    \n",
    "    def __init__ (self, first, last, salary):\n",
    "        self.first = first\n",
    "        self.last = last\n",
    "        self.salary = salary\n",
    "        \n",
    "    def show(self):\n",
    "        print(self.first + ' ' + 'OK')"
   ]
  },
  {
   "cell_type": "code",
   "execution_count": 23,
   "id": "577bcb6c",
   "metadata": {},
   "outputs": [],
   "source": [
    "emp1 = Employee('Aditya', 'Thakare', 51000)"
   ]
  },
  {
   "cell_type": "code",
   "execution_count": 24,
   "id": "4a9ed0d7",
   "metadata": {},
   "outputs": [
    {
     "data": {
      "text/plain": [
       "'Aditya'"
      ]
     },
     "execution_count": 24,
     "metadata": {},
     "output_type": "execute_result"
    }
   ],
   "source": [
    "emp1.first"
   ]
  },
  {
   "cell_type": "code",
   "execution_count": 25,
   "id": "c31798fc",
   "metadata": {},
   "outputs": [
    {
     "name": "stdout",
     "output_type": "stream",
     "text": [
      "Aditya OK\n"
     ]
    }
   ],
   "source": [
    "Employee.show(emp1)"
   ]
  },
  {
   "cell_type": "code",
   "execution_count": 27,
   "id": "6faca61a",
   "metadata": {},
   "outputs": [],
   "source": [
    "class Employee2(Employee):   # Inheritance\n",
    "    pass"
   ]
  },
  {
   "cell_type": "code",
   "execution_count": 28,
   "id": "52f2bba8",
   "metadata": {},
   "outputs": [
    {
     "name": "stdout",
     "output_type": "stream",
     "text": [
      "Aditya OK\n"
     ]
    }
   ],
   "source": [
    "Employee2.show(emp1)"
   ]
  },
  {
   "cell_type": "code",
   "execution_count": 29,
   "id": "4f96aed9",
   "metadata": {},
   "outputs": [
    {
     "name": "stdout",
     "output_type": "stream",
     "text": [
      "Aditya\n"
     ]
    }
   ],
   "source": [
    "print(emp1.first)"
   ]
  },
  {
   "cell_type": "code",
   "execution_count": 30,
   "id": "12d540cd",
   "metadata": {},
   "outputs": [],
   "source": [
    "# Encapsulation\n",
    "class Employee111():\n",
    "    \n",
    "    def __init__ (self, first, last, salary):\n",
    "        self.first = first\n",
    "        self.__last = last   # private variable\n",
    "        self.salary = salary"
   ]
  },
  {
   "cell_type": "code",
   "execution_count": 34,
   "id": "a562be92",
   "metadata": {},
   "outputs": [],
   "source": [
    "emp1 = Employee111('Tushar', 'Kute', 51000)"
   ]
  },
  {
   "cell_type": "code",
   "execution_count": 35,
   "id": "520b8ae4",
   "metadata": {},
   "outputs": [
    {
     "data": {
      "text/plain": [
       "'Tushar'"
      ]
     },
     "execution_count": 35,
     "metadata": {},
     "output_type": "execute_result"
    }
   ],
   "source": [
    "emp1.first"
   ]
  },
  {
   "cell_type": "code",
   "execution_count": 36,
   "id": "a625a31f",
   "metadata": {},
   "outputs": [
    {
     "ename": "AttributeError",
     "evalue": "'Employee111' object has no attribute 'last'",
     "output_type": "error",
     "traceback": [
      "\u001b[0;31m---------------------------------------------------------------------------\u001b[0m",
      "\u001b[0;31mAttributeError\u001b[0m                            Traceback (most recent call last)",
      "Cell \u001b[0;32mIn[36], line 1\u001b[0m\n\u001b[0;32m----> 1\u001b[0m emp1\u001b[38;5;241m.\u001b[39mlast\n",
      "\u001b[0;31mAttributeError\u001b[0m: 'Employee111' object has no attribute 'last'"
     ]
    }
   ],
   "source": [
    "emp1.last"
   ]
  },
  {
   "cell_type": "code",
   "execution_count": null,
   "id": "c18e4766",
   "metadata": {},
   "outputs": [],
   "source": []
  }
 ],
 "metadata": {
  "kernelspec": {
   "display_name": "Python 3 (ipykernel)",
   "language": "python",
   "name": "python3"
  },
  "language_info": {
   "codemirror_mode": {
    "name": "ipython",
    "version": 3
   },
   "file_extension": ".py",
   "mimetype": "text/x-python",
   "name": "python",
   "nbconvert_exporter": "python",
   "pygments_lexer": "ipython3",
   "version": "3.11.5"
  }
 },
 "nbformat": 4,
 "nbformat_minor": 5
}
