{
 "cells": [
  {
   "cell_type": "code",
   "execution_count": 1,
   "id": "35d3ea6f",
   "metadata": {},
   "outputs": [],
   "source": [
    "num = 20"
   ]
  },
  {
   "cell_type": "code",
   "execution_count": 3,
   "id": "a9d3ab44",
   "metadata": {},
   "outputs": [
    {
     "name": "stdout",
     "output_type": "stream",
     "text": [
      "ok\n"
     ]
    }
   ],
   "source": [
    "# if\n",
    "if num<100:\n",
    "    print('ok')"
   ]
  },
  {
   "cell_type": "code",
   "execution_count": 5,
   "id": "0e32c908",
   "metadata": {},
   "outputs": [],
   "source": [
    "num1 = 120"
   ]
  },
  {
   "cell_type": "code",
   "execution_count": 8,
   "id": "68f4fee1",
   "metadata": {},
   "outputs": [
    {
     "name": "stdout",
     "output_type": "stream",
     "text": [
      "not ok\n"
     ]
    }
   ],
   "source": [
    "# if else\n",
    "# if\n",
    "if num1<100:\n",
    "    print('ok')\n",
    "else:\n",
    "    print('not ok')"
   ]
  },
  {
   "cell_type": "code",
   "execution_count": 9,
   "id": "a2eed2ca",
   "metadata": {},
   "outputs": [],
   "source": [
    "# take user input and check if the number is odd or even"
   ]
  },
  {
   "cell_type": "code",
   "execution_count": 14,
   "id": "7a58ad9d",
   "metadata": {},
   "outputs": [
    {
     "name": "stdout",
     "output_type": "stream",
     "text": [
      "Enter the number2\n",
      "Even\n"
     ]
    }
   ],
   "source": [
    "num = int(input('Enter the number'))\n",
    "\n",
    "if num == 0:\n",
    "    print('ZERO')\n",
    "    \n",
    "elif num % 2 == 0:\n",
    "    print('Even')\n",
    "    \n",
    "else:\n",
    "    print('Odd')"
   ]
  },
  {
   "cell_type": "code",
   "execution_count": 15,
   "id": "622d389c",
   "metadata": {},
   "outputs": [
    {
     "name": "stdout",
     "output_type": "stream",
     "text": [
      "Enter the number5\n",
      "not ok\n"
     ]
    }
   ],
   "source": [
    "# Check if the number is between 50 and 100\n",
    "num = int(input('Enter the number'))\n",
    "\n",
    "if num > 50 and num < 100:\n",
    "    print('ok')\n",
    "else:\n",
    "    print('not ok')"
   ]
  },
  {
   "cell_type": "code",
   "execution_count": 17,
   "id": "311f6d07",
   "metadata": {},
   "outputs": [
    {
     "name": "stdout",
     "output_type": "stream",
     "text": [
      "Enter the number102\n",
      "NO\n"
     ]
    }
   ],
   "source": [
    "num = int(input('Enter the number'))\n",
    "\n",
    "if num > 50:\n",
    "    if num < 100:\n",
    "        print('ok')\n",
    "    else:\n",
    "        print('NO')\n",
    "\n",
    "else:\n",
    "    print('Not Ok')"
   ]
  },
  {
   "cell_type": "code",
   "execution_count": 23,
   "id": "cd0aa70f",
   "metadata": {},
   "outputs": [
    {
     "name": "stdout",
     "output_type": "stream",
     "text": [
      "Enter the year 2017\n",
      "Not Leap\n"
     ]
    }
   ],
   "source": [
    "# Check if the year is leap or not\n",
    "# 2020 => leap\n",
    "# 1900 => not leap\n",
    "# 2017 => not leap\n",
    "# 2000 => leap\n",
    "\n",
    "year = int(input('Enter the year '))\n",
    "\n",
    "if year % 4 == 0:\n",
    "    if year % 100 == 0:\n",
    "        if year % 400 == 0:\n",
    "            print('Leap')\n",
    "        else:\n",
    "            print('Not leap')\n",
    "    else:\n",
    "        print('Leap')\n",
    "        \n",
    "else:\n",
    "    print('Not Leap')"
   ]
  },
  {
   "cell_type": "code",
   "execution_count": 26,
   "id": "4846f76f",
   "metadata": {},
   "outputs": [
    {
     "name": "stdout",
     "output_type": "stream",
     "text": [
      "enter the number5\n",
      "Menu\n",
      "1.square\n",
      "2.cube\n",
      "3.check +ve or -ve\n",
      "Choose: 2\n",
      "Cube is  125\n"
     ]
    }
   ],
   "source": [
    "# menu driven program\n",
    "\n",
    "# read a number=> square, cube, positive or negative\n",
    "\n",
    "num = int(input('enter the number'))\n",
    "\n",
    "print('Menu\\n1.square\\n2.cube\\n3.check +ve or -ve')\n",
    "\n",
    "choice = int(input('Choose: '))\n",
    "\n",
    "if choice == 1:\n",
    "    print('square is ',num * num)\n",
    "    \n",
    "elif choice == 2:\n",
    "    print('Cube is ', num ** 3)\n",
    "\n",
    "elif choice == 3:\n",
    "    if num > 0:\n",
    "        print('Positive')\n",
    "    else:\n",
    "        print('Negative')\n",
    "else:\n",
    "    print('Invalid Choice')"
   ]
  },
  {
   "cell_type": "code",
   "execution_count": null,
   "id": "cf07416e",
   "metadata": {},
   "outputs": [],
   "source": []
  }
 ],
 "metadata": {
  "kernelspec": {
   "display_name": "Python 3 (ipykernel)",
   "language": "python",
   "name": "python3"
  },
  "language_info": {
   "codemirror_mode": {
    "name": "ipython",
    "version": 3
   },
   "file_extension": ".py",
   "mimetype": "text/x-python",
   "name": "python",
   "nbconvert_exporter": "python",
   "pygments_lexer": "ipython3",
   "version": "3.11.5"
  }
 },
 "nbformat": 4,
 "nbformat_minor": 5
}
